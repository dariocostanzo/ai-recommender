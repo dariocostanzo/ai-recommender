{
 "cells": [
  {
   "cell_type": "markdown",
   "metadata": {},
   "source": [
    "# Data Exploration for Recommendation System\n",
    "\n",
    "This notebook explores the dataset we'll use for our recommendation system."
   ]
  },
  {
   "cell_type": "code",
   "execution_count": null,
   "metadata": {},
   "outputs": [],
   "source": [
    "# Import necessary libraries\n",
    "import numpy as np\n",
    "import pandas as pd\n",
    "import matplotlib.pyplot as plt\n",
    "import seaborn as sns\n",
    "\n",
    "# Set plot style\n",
    "plt.style.use('ggplot')\n",
    "sns.set(style=\"whitegrid\")"
   ]
  },
  {
   "cell_type": "markdown",
   "metadata": {},
   "source": [
    "## Loading Sample Data\n",
    "\n",
    "For this initial exploration, we'll create a small sample dataset of articles with their content and metadata."
   ]
  },
  {
   "cell_type": "code",
   "execution_count": null,
   "metadata": {},
   "outputs": [],
   "source": [
    "# Create a sample dataset\n",
    "articles = [\n",
    "    {\n",
    "        \"id\": 1,\n",
    "        \"title\": \"Introduction to Machine Learning\",\n",
    "        \"content\": \"Machine learning is a field of study that gives computers the ability to learn without being explicitly programmed.\",\n",
    "        \"category\": \"AI\",\n",
    "        \"tags\": [\"machine learning\", \"AI\", \"algorithms\"]\n",
    "    },\n",
    "    {\n",
    "        \"id\": 2,\n",
    "        \"title\": \"Deep Learning Fundamentals\",\n",
    "        \"content\": \"Deep learning is a subset of machine learning that uses neural networks with many layers.\",\n",
    "        \"category\": \"AI\",\n",
    "        \"tags\": [\"deep learning\", \"neural networks\", \"AI\"]\n",
    "    },\n",
    "    {\n",
    "        \"id\": 3,\n",
    "        \"title\": \"Python for Data Science\",\n",
    "        \"content\": \"Python is a popular programming language for data science due to its simplicity and powerful libraries.\",\n",
    "        \"category\": \"Programming\",\n",
    "        \"tags\": [\"python\", \"programming\", \"data science\"]\n",
    "    },\n",
    "    {\n",
    "        \"id\": 4,\n",
    "        \"title\": \"Natural Language Processing\",\n",
    "        \"content\": \"NLP is a field of AI that focuses on the interaction between computers and human language.\",\n",
    "        \"category\": \"AI\",\n",
    "        \"tags\": [\"NLP\", \"AI\", \"text processing\"]\n",
    "    },\n",
    "    {\n",
    "        \"id\": 5,\n",
    "        \"title\": \"Data Visualization Techniques\",\n",
    "        \"content\": \"Data visualization is the graphical representation of information and data using visual elements.\",\n",
    "        \"category\": \"Data Science\",\n",
    "        \"tags\": [\"visualization\", \"data science\", \"charts\"]\n",
    "    }\n",
    "]\n",
    "\n",
    "# Convert to DataFrame\n",
    "df_articles = pd.DataFrame(articles)\n",
    "df_articles"
   ]
  },
  {
   "cell_type": "markdown",
   "metadata": {},
   "source": [
    "## Basic Data Analysis\n",
    "\n",
    "Let's examine the structure and content of our dataset."
   ]
  },
  {
   "cell_type": "code",
   "execution_count": null,
   "metadata": {},
   "outputs": [],
   "source": [
    "# Display basic information about the dataset\n",
    "print(\"Dataset shape:\", df_articles.shape)\n",
    "print(\"\\nDataset columns:\")\n",
    "for col in df_articles.columns:\n",
    "    print(f\"- {col}\")\n",
    "\n",
    "print(\"\\nCategory distribution:\")\n",
    "print(df_articles['category'].value_counts())"
   ]
  },
  {
   "cell_type": "markdown",
   "metadata": {},
   "source": [
    "## Next Steps\n",
    "\n",
    "In the next notebook, we'll:\n",
    "1. Process the text data using NLP techniques\n",
    "2. Create vector representations of the articles\n",
    "3. Build a simple content-based recommendation system"
   ]
  }
 ],
 "metadata": {
  "kernelspec": {
   "display_name": "Python 3",
   "language": "python",
   "name": "python3"
  },
  "language_info": {
   "codemirror_mode": {
    "name": "ipython",
    "version": 3
   },
   "file_extension": ".py",
   "mimetype": "text/x-python",
   "name": "python",
   "nbconvert_exporter": "python",
   "pygments_lexer": "ipython3",
   "version": "3.8.10"
  }
 },
 "nbformat": 4,
 "nbformat_minor": 4
}